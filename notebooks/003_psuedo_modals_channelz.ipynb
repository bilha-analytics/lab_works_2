version https://git-lfs.github.com/spec/v1
oid sha256:a1041cb2c75506a51a268418583236cc054cd599b2ef8bfeb397760e46145f49
size 587807
