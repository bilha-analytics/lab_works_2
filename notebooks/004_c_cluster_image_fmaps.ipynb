version https://git-lfs.github.com/spec/v1
oid sha256:ecb7972505b66bd2996e4f12fc2274e9a1c6fd2e82ff5e2c7b7e71e3e47ded7b
size 1203969
