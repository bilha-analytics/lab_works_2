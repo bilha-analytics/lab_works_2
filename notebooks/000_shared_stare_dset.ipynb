version https://git-lfs.github.com/spec/v1
oid sha256:27b59ed2e436b0b2fc69af57d4c5841bb5f21eebbfcb5b23d7d7d3eca42cb480
size 4497
