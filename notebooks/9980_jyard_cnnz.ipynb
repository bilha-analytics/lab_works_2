version https://git-lfs.github.com/spec/v1
oid sha256:0755bf9488fb19fe020d4a4a9ff27c1b15cf3af9bd80c34090503f079b3d46a0
size 20817516
