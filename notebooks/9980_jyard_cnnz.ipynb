version https://git-lfs.github.com/spec/v1
oid sha256:5c35528caa73e9fd0681346d8b1ac65d5953ab19b3b7c37f6f8036d3584ab6c4
size 20817518
