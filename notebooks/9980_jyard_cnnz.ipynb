version https://git-lfs.github.com/spec/v1
oid sha256:947109a426f6f549572ba8ed7013a507e2a03902314fa7b8f90b16ab5d6a3c86
size 29598287
