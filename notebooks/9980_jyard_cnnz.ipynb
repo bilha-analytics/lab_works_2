version https://git-lfs.github.com/spec/v1
oid sha256:bd89a5fc04e226229270365e94da77d6acfdc46348039bd90d0f22b22e5633d0
size 563597
