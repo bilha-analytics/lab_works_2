version https://git-lfs.github.com/spec/v1
oid sha256:700061e2762a55966365ba9c0fa34fdb52109e6014c5d2752fd75a5f2b814aaf
size 38864
