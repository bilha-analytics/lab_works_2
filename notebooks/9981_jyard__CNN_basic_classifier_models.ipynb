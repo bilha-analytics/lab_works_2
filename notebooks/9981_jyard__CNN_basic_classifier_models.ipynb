version https://git-lfs.github.com/spec/v1
oid sha256:7555f54ed7834dc67324eac8d01f0261cee89c520e00a3f437dc88fa4f0a8dc3
size 32284
